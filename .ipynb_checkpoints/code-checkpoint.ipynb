{
 "cells": [
  {
   "cell_type": "markdown",
   "id": "a8178ca9",
   "metadata": {},
   "source": [
    "### Tic-Tac-Toe Showdown!\n",
    "\n",
    "Get ready to witness the most epic battle of wit and strategy in the world of tic-tac-toe! Brace yourself for laughter, tears, and nail-biting excitement as our two fierce opponents, X and O, go head-to-head in this ultimate showdown!\n",
    "\n",
    "#### The Players\n",
    "\n",
    "- **X**: The master of mischief and ultimate tic-tac-toe champion. Known for their lightning-fast moves and unpredictable strategies. Will they maintain their title, or will they be dethroned? \n",
    "- **O**: The underdog with a heart of gold. Armed with determination and an unwavering spirit, they're here to prove that even the most unlikely contenders can conquer the game!\n"
   ]
  },
  {
   "cell_type": "code",
   "execution_count": 3,
   "id": "28466713",
   "metadata": {},
   "outputs": [],
   "source": [
    "from IPython.display import clear_output\n",
    "\n",
    "def display_board(board):\n",
    "    clear_output()\n",
    "    print(board[7]+\"|\"+board[8]+\"|\"+board[9])\n",
    "    print(board[4]+\"|\"+board[5]+\"|\"+board[6])\n",
    "    print(board[1]+\"|\"+board[2]+\"|\"+board[3])"
   ]
  },
  {
   "cell_type": "markdown",
   "id": "bcf9947f",
   "metadata": {},
   "source": [
    "`Testing the board`"
   ]
  },
  {
   "cell_type": "code",
   "execution_count": 4,
   "id": "e48ac210",
   "metadata": {},
   "outputs": [
    {
     "name": "stdout",
     "output_type": "stream",
     "text": [
      " | | \n",
      " | | \n",
      " | | \n"
     ]
    }
   ],
   "source": [
    "test_board = [' ']*10\n",
    "display_board(test_board)"
   ]
  },
  {
   "cell_type": "code",
   "execution_count": 5,
   "id": "26cc659f",
   "metadata": {},
   "outputs": [],
   "source": [
    "def player_input():\n",
    "    '''\n",
    "    OUTPUT = (Player 1 marker, Player 2 marker) - tuple\n",
    "    '''\n",
    "    marker = \"\"\n",
    "    \n",
    "    while marker != \"X\" and marker != \"O\":\n",
    "        marker = input(\"Player 1, choose X or O: \").upper()\n",
    "        \n",
    "    if marker == \"X\":\n",
    "        return (\"X\",\"O\")\n",
    "    else:\n",
    "        return (\"O\",\"X\")"
   ]
  },
  {
   "cell_type": "markdown",
   "id": "b0fb1de3",
   "metadata": {},
   "source": [
    "`Testing the function to make sure it returns the desired output`"
   ]
  },
  {
   "cell_type": "code",
   "execution_count": 6,
   "id": "f005fb59",
   "metadata": {},
   "outputs": [
    {
     "name": "stdout",
     "output_type": "stream",
     "text": [
      "Player 1, choose X or O: X\n"
     ]
    },
    {
     "data": {
      "text/plain": [
       "('X', 'O')"
      ]
     },
     "execution_count": 6,
     "metadata": {},
     "output_type": "execute_result"
    }
   ],
   "source": [
    "player_input()"
   ]
  },
  {
   "cell_type": "code",
   "execution_count": 7,
   "id": "9c721c4d",
   "metadata": {},
   "outputs": [],
   "source": [
    "def place_marker(board, marker, position):\n",
    "    \n",
    "    board[position] = marker"
   ]
  },
  {
   "cell_type": "markdown",
   "id": "6d47daf9",
   "metadata": {},
   "source": [
    "`Testing place_marker() using parameters and display_board()`"
   ]
  },
  {
   "cell_type": "code",
   "execution_count": 8,
   "id": "f682122f",
   "metadata": {
    "scrolled": false
   },
   "outputs": [
    {
     "name": "stdout",
     "output_type": "stream",
     "text": [
      " | | \n",
      " | |O\n",
      " | | \n"
     ]
    }
   ],
   "source": [
    "place_marker(test_board,'O',6)\n",
    "display_board(test_board)"
   ]
  },
  {
   "cell_type": "code",
   "execution_count": 9,
   "id": "69231313",
   "metadata": {},
   "outputs": [],
   "source": [
    "def win_check(board,mark):\n",
    "    \n",
    "    return ((board[7] == mark and board[8] == mark and board[9] == mark) or # across the top\n",
    "    (board[4] == mark and board[5] == mark and board[6] == mark) or # across the middle\n",
    "    (board[1] == mark and board[2] == mark and board[3] == mark) or # across the bottom\n",
    "    (board[7] == mark and board[4] == mark and board[1] == mark) or # down the middle\n",
    "    (board[8] == mark and board[5] == mark and board[2] == mark) or # down the middle\n",
    "    (board[9] == mark and board[6] == mark and board[3] == mark) or # down the right side\n",
    "    (board[7] == mark and board[5] == mark and board[3] == mark) or # diagonal\n",
    "    (board[9] == mark and board[5] == mark and board[1] == mark))"
   ]
  },
  {
   "cell_type": "markdown",
   "id": "c10b7198",
   "metadata": {},
   "source": [
    "`Testing win_check() against test_board`"
   ]
  },
  {
   "cell_type": "code",
   "execution_count": 10,
   "id": "6062f2fc",
   "metadata": {},
   "outputs": [
    {
     "name": "stdout",
     "output_type": "stream",
     "text": [
      " | | \n",
      " | |O\n",
      " | | \n"
     ]
    },
    {
     "data": {
      "text/plain": [
       "False"
      ]
     },
     "execution_count": 10,
     "metadata": {},
     "output_type": "execute_result"
    }
   ],
   "source": [
    "display_board(test_board)\n",
    "win_check(test_board,'X')"
   ]
  },
  {
   "cell_type": "code",
   "execution_count": 11,
   "id": "075ed83d",
   "metadata": {},
   "outputs": [],
   "source": [
    "import random\n",
    "\n",
    "def choose_first():\n",
    "    \n",
    "    flip = random.randint(0,1)\n",
    "    \n",
    "    if flip == 0:\n",
    "        return \"Player 1\"\n",
    "    else:\n",
    "        return \"Player 2\""
   ]
  },
  {
   "cell_type": "code",
   "execution_count": 12,
   "id": "6f3376e1",
   "metadata": {},
   "outputs": [],
   "source": [
    "def space_check(board, position):\n",
    "    \n",
    "    return board[position] == \" \""
   ]
  },
  {
   "cell_type": "code",
   "execution_count": 13,
   "id": "f85f672f",
   "metadata": {},
   "outputs": [],
   "source": [
    "def full_board_check(board):\n",
    "    \n",
    "    for i in range(1,10):\n",
    "        if space_check(board,i):\n",
    "            return False\n",
    "    \n",
    "    return True"
   ]
  },
  {
   "cell_type": "code",
   "execution_count": 14,
   "id": "417c6f69",
   "metadata": {},
   "outputs": [],
   "source": [
    "def player_choice(board):\n",
    "    \n",
    "    position = 0\n",
    "    \n",
    "    while position not in [1,2,3,4,5,6,7,8,9] or not space_check(board,position):\n",
    "        position = int(input(\"Choose a position: (1-9) \"))\n",
    "    \n",
    "    return position"
   ]
  },
  {
   "cell_type": "code",
   "execution_count": 15,
   "id": "fff3c298",
   "metadata": {},
   "outputs": [],
   "source": [
    "def replay():\n",
    "    \n",
    "    choice = input(\"Play again? Enter Yes or No\")\n",
    "    \n",
    "    return choice == \"Yes\""
   ]
  },
  {
   "cell_type": "markdown",
   "id": "0c140ced",
   "metadata": {},
   "source": [
    "### The Battle Begins!"
   ]
  },
  {
   "cell_type": "code",
   "execution_count": 16,
   "id": "8e6ed0c1",
   "metadata": {},
   "outputs": [
    {
     "name": "stdout",
     "output_type": "stream",
     "text": [
      " | |O\n",
      "X|X|O\n",
      "O|X|O\n",
      "PLAYER 1 HAS WON!\n",
      "Play again? Enter Yes or Nono\n"
     ]
    }
   ],
   "source": [
    "print(\"Welcome to TIC TAC TOE\")\n",
    "\n",
    "#WHILE loop to keep running the game\n",
    "while True:\n",
    "    \n",
    "    # play the game \n",
    "    \n",
    "    ## board > who's first > choose markers x,o\n",
    "    \n",
    "    the_board = [\" \"]*10\n",
    "    player1_marker,player2_marker = player_input()\n",
    "    \n",
    "    turn = choose_first()\n",
    "    print(turn + \" will go first\")\n",
    "    \n",
    "    play_game = input(\"Ready to play? y or n?\")\n",
    "    \n",
    "    if play_game == \"y\":\n",
    "        game_on = True\n",
    "    else:\n",
    "        game_on = False\n",
    "    \n",
    "    ## gameplay\n",
    "    \n",
    "    while game_on:\n",
    "        \n",
    "        if turn == \"Player 1\":\n",
    "            display_board(the_board) #show the board\n",
    "            position = player_choice(the_board) #choose a position\n",
    "            place_marker(the_board,player1_marker,position) #place the marker on the position\n",
    "            \n",
    "            if win_check(the_board,player1_marker): #check if they won\n",
    "                display_board(the_board)\n",
    "                print(\"PLAYER 1 HAS WON!\")\n",
    "                game_on = False\n",
    "            else:\n",
    "                if full_board_check(the_board):\n",
    "                    display_board(the_board)\n",
    "                    print(\"TIE GAME\")\n",
    "                    game_on = False\n",
    "                else:\n",
    "                    turn = \"Player 2\"\n",
    "                \n",
    "        else:\n",
    "            display_board(the_board) #show the board\n",
    "            position = player_choice(the_board) #choose a position\n",
    "            place_marker(the_board,player2_marker,position) #place the marker on the position\n",
    "            \n",
    "            if win_check(the_board,player2_marker): #check if they won\n",
    "                display_board(the_board)\n",
    "                print(\"PLAYER 2 HAS WON!\")\n",
    "                game_on = False\n",
    "            else:\n",
    "                if full_board_check(the_board):\n",
    "                    display_board(the_board)\n",
    "                    print(\"TIE GAME\")\n",
    "                    game_on = False\n",
    "                else:\n",
    "                    turn = \"Player 1\"\n",
    "        \n",
    "    if not replay():\n",
    "        break\n",
    "    # BREAK out of the WHILE loop on replay()"
   ]
  },
  {
   "cell_type": "code",
   "execution_count": null,
   "id": "4ba2122b",
   "metadata": {},
   "outputs": [],
   "source": []
  }
 ],
 "metadata": {
  "kernelspec": {
   "display_name": "Python 3 (ipykernel)",
   "language": "python",
   "name": "python3"
  },
  "language_info": {
   "codemirror_mode": {
    "name": "ipython",
    "version": 3
   },
   "file_extension": ".py",
   "mimetype": "text/x-python",
   "name": "python",
   "nbconvert_exporter": "python",
   "pygments_lexer": "ipython3",
   "version": "3.11.4"
  }
 },
 "nbformat": 4,
 "nbformat_minor": 5
}
